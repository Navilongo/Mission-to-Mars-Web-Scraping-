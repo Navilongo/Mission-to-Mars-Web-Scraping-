{
 "cells": [
  {
   "cell_type": "code",
   "execution_count": null,
   "id": "pretty-underwear",
   "metadata": {},
   "outputs": [],
   "source": [
    "# Download dependencies\n",
    "import os\n",
    "from bs4 import BeautifulSoup as bs\n",
    "import requests\n",
    "from splinter import Browser\n",
    "import time\n",
    "from webdriver_manager.chrome import ChromeDriverManager"
   ]
  },
  {
   "cell_type": "code",
   "execution_count": null,
   "id": "innocent-winner",
   "metadata": {},
   "outputs": [],
   "source": [
    "executable_path = {'executable_path': ChromeDriverManager().install()}\n",
    "browser = Browser('chrome', **executable_path, headless=False)"
   ]
  },
  {
   "cell_type": "markdown",
   "id": "unexpected-concord",
   "metadata": {},
   "source": [
    "## Mars Planet Science Scrape"
   ]
  },
  {
   "cell_type": "code",
   "execution_count": null,
   "id": "dressed-daniel",
   "metadata": {},
   "outputs": [],
   "source": [
    "# URL of page to be scraped\n",
    "url = 'https://redplanetscience.com/'\n",
    "browser.visit(url)"
   ]
  },
  {
   "cell_type": "code",
   "execution_count": null,
   "id": "successful-string",
   "metadata": {},
   "outputs": [],
   "source": [
    "soup = bs(browser.html, 'html.parser')"
   ]
  },
  {
   "cell_type": "code",
   "execution_count": null,
   "id": "gentle-cylinder",
   "metadata": {},
   "outputs": [],
   "source": [
    "print(soup.prettify())"
   ]
  },
  {
   "cell_type": "code",
   "execution_count": null,
   "id": "grave-plate",
   "metadata": {},
   "outputs": [],
   "source": [
    "news_title = soup.find_all('div', class_='content_title')[0]\n",
    "news_title"
   ]
  },
  {
   "cell_type": "code",
   "execution_count": null,
   "id": "improved-canal",
   "metadata": {},
   "outputs": [],
   "source": [
    "news_p = soup.find_all('div', class_='article_teaser_body')[0]\n",
    "news_p"
   ]
  },
  {
   "cell_type": "markdown",
   "id": "opposed-anniversary",
   "metadata": {},
   "source": [
    "## JPL Mars Space Images - Featured Image"
   ]
  },
  {
   "cell_type": "code",
   "execution_count": null,
   "id": "directed-recorder",
   "metadata": {},
   "outputs": [],
   "source": [
    "url = \"https://spaceimages-mars.com/\"\n",
    "browser.visit(url)\n",
    "\n",
    "#scrape page into soup\n",
    "html = browser.html\n",
    "soup = bs(html, \"html.parser\")"
   ]
  },
  {
   "cell_type": "code",
   "execution_count": null,
   "id": "boolean-minister",
   "metadata": {},
   "outputs": [],
   "source": [
    "print(soup.prettify())"
   ]
  },
  {
   "cell_type": "code",
   "execution_count": null,
   "id": "formal-nancy",
   "metadata": {},
   "outputs": [],
   "source": [
    "relative_image_path = soup.find_all('img')[1]['src']\n",
    "relative_image_path"
   ]
  },
  {
   "cell_type": "code",
   "execution_count": null,
   "id": "mathematical-hunger",
   "metadata": {},
   "outputs": [],
   "source": [
    "feature_image = url + relative_image_path\n",
    "feature_image"
   ]
  },
  {
   "cell_type": "markdown",
   "id": "serious-rocket",
   "metadata": {},
   "source": [
    "## Galaxy Facts"
   ]
  },
  {
   "cell_type": "code",
   "execution_count": null,
   "id": "skilled-granny",
   "metadata": {
    "scrolled": true
   },
   "outputs": [],
   "source": [
    "url = \"https://galaxyfacts-mars.com/\"\n",
    "browser.visit(url)\n",
    "\n",
    "#scrape page into soup\n",
    "html = browser.html\n",
    "soup = bs(html, \"html.parser\")\n",
    "print(soup.prettify())"
   ]
  },
  {
   "cell_type": "code",
   "execution_count": null,
   "id": "happy-pride",
   "metadata": {},
   "outputs": [],
   "source": [
    "planet_profile_table = soup.find_all('table', class_= \"table table-striped\")\n",
    "planet_profile_table"
   ]
  },
  {
   "cell_type": "markdown",
   "id": "magnetic-kitty",
   "metadata": {},
   "source": [
    "## Mars Hemispheres"
   ]
  },
  {
   "cell_type": "code",
   "execution_count": null,
   "id": "recent-adoption",
   "metadata": {},
   "outputs": [],
   "source": [
    "url = \"https://marshemispheres.com/\"\n",
    "browser.visit(url)\n",
    "html = browser.html\n",
    "soup = bs(html, \"html.parser\")\n",
    "print(soup.prettify())"
   ]
  },
  {
   "cell_type": "code",
   "execution_count": null,
   "id": "equivalent-timber",
   "metadata": {
    "scrolled": true
   },
   "outputs": [],
   "source": [
    "#title_list = []\n",
    "\n",
    "#titles = soup.find_all('h3')\n",
    "\n",
    "#for title in titles:\n",
    "    #title_list.append(title.text)\n",
    "    \n",
    "#title_list"
   ]
  },
  {
   "cell_type": "code",
   "execution_count": null,
   "id": "derived-league",
   "metadata": {},
   "outputs": [],
   "source": [
    "links = browser.find_by_css('a.product-item img')\n",
    "print(len(links))\n",
    "\n",
    "hemisphere_image_urls = []\n",
    "img_url = {}\n",
    "url = []\n",
    "\n",
    "for i,link in enumerate(links): \n",
    "    print(i, link)\n",
    "    browser.find_by_css('a.product-item img')[i].click()\n",
    "    \n",
    "    titles = browser.find_by_css('h2.title').text\n",
    "    print(titles)\n",
    "    url = browser.find_by_css('li.href')\n",
    "   \n",
    "    img_url['title'] = titles\n",
    "    img_url['img_url'] = url\n",
    "    print(img_url)\n",
    "    hemisphere_image_urls.append(img_url)\n",
    "    browser.back()\n",
    "    \n",
    "print(hemisphere_image_urls)\n"
   ]
  },
  {
   "cell_type": "code",
   "execution_count": null,
   "id": "sudden-membrane",
   "metadata": {},
   "outputs": [],
   "source": [
    "print(img_url)\n",
    "\n",
    "\n",
    "    \n"
   ]
  },
  {
   "cell_type": "code",
   "execution_count": null,
   "id": "derived-atmosphere",
   "metadata": {},
   "outputs": [],
   "source": [
    "print(hemisphere_image_urls)\n"
   ]
  },
  {
   "cell_type": "markdown",
   "id": "every-olympus",
   "metadata": {},
   "source": [
    "## Mars dictionary"
   ]
  },
  {
   "cell_type": "code",
   "execution_count": null,
   "id": "numerous-jason",
   "metadata": {},
   "outputs": [],
   "source": [
    "mars_scraped = {\n",
    "    \"news_title\": news_title,\n",
    "    \"news_p\": news_p,\n",
    "    \"feature_image\": feature_image\n",
    "    \"planet_profile_table\": str(planet_profile_table)\n",
    "}\n",
    "\n",
    "return mars_dict"
   ]
  }
 ],
 "metadata": {
  "kernelspec": {
   "display_name": "Python [conda env:PythonData] *",
   "language": "python",
   "name": "conda-env-PythonData-py"
  },
  "language_info": {
   "codemirror_mode": {
    "name": "ipython",
    "version": 3
   },
   "file_extension": ".py",
   "mimetype": "text/x-python",
   "name": "python",
   "nbconvert_exporter": "python",
   "pygments_lexer": "ipython3",
   "version": "3.6.10"
  }
 },
 "nbformat": 4,
 "nbformat_minor": 5
}
